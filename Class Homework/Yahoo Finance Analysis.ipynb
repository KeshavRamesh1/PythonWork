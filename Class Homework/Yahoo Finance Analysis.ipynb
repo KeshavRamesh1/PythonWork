{
 "cells": [
  {
   "cell_type": "markdown",
   "metadata": {},
   "source": [
    "# HW 2"
   ]
  },
  {
   "cell_type": "markdown",
   "metadata": {},
   "source": [
    "## Introduction\n",
    "\n",
    "* In this homework you will download an html file from Yahoo Finance that contains a table of stock prices, trade volumes etc.\n",
    "* You can look at an example web page by following this link <https://finance.yahoo.com/quote/MSFT/history?p=MSFT>\n",
    "* Once you have the data you will clean the file so that it is suitable for analysis.\n",
    "* Finally you will create some statistical summaries of the data.\n",
    "* In a subsequent homework we will use a similar data set for some plotting activities."
   ]
  },
  {
   "cell_type": "markdown",
   "metadata": {},
   "source": [
    "## Q1. \n",
    "### 5 pts.\n",
    "\n",
    "a. Choose a stock ticker symbol. You can use 'MSFT' if you want, but you don't have to. Store the symbol in a variable called \"stock\".\n",
    "\n",
    "b. Create a new string variable called \"url\" that is the url of the Yahoo stock web page. It needs to look just like the link above with the ticker symbol embedded (in two places). You shouldn't hard code the stock symbol into the url, but rather use the .format() method on the string together with the {} notation to create the url. An example of this syntax is on the slide \"breaking out of a for loop\", slide 5.9, Class 2.\n",
    "\n",
    "c. Print the url variable and make sure it resembles the link above (just with your chosen ticker symbol)."
   ]
  },
  {
   "cell_type": "code",
   "execution_count": 2,
   "metadata": {},
   "outputs": [
    {
     "name": "stdout",
     "output_type": "stream",
     "text": [
      "https://finance.yahoo.com/quote/MSFT/history?p=MSFT\n"
     ]
    }
   ],
   "source": [
    "# Q1 code goes here.\n",
    "\n",
    "#1a.\n",
    "stock = \"MSFT\"\n",
    "\n",
    "#1b.\n",
    "url = \"https://finance.yahoo.com/quote/{stock}/history?p={stock}\".format(stock = \"MSFT\")\n",
    "\n",
    "#1c.\n",
    "print(url)"
   ]
  },
  {
   "cell_type": "markdown",
   "metadata": {},
   "source": [
    "## Q2. Read in the html file and list the column names\n",
    "### 6pts.\n",
    "\n",
    "a. Use the pd.read_html() command to obtain the data. Recall that the command returns a list of data frames, so pick off the first element. Call the data frame \"stock_data\".\n",
    "\n",
    "b. Obtain and print the dimensions of data frame.\n",
    "\n",
    "c. Obtain and print the names of all the columns.\n",
    "\n",
    "d. Obtain and print the data types.\n",
    "\n",
    "e. What is the problem with the data type in terms of the Volume variable? "
   ]
  },
  {
   "cell_type": "code",
   "execution_count": 3,
   "metadata": {
    "scrolled": true
   },
   "outputs": [
    {
     "name": "stdout",
     "output_type": "stream",
     "text": [
      "(101, 6)\n",
      "Index(['Open', 'High', 'Low', 'Close*', 'Adj Close**', 'Volume'], dtype='object')\n",
      "Open           object\n",
      "High           object\n",
      "Low            object\n",
      "Close*         object\n",
      "Adj Close**    object\n",
      "Volume         object\n",
      "dtype: object\n"
     ]
    }
   ],
   "source": [
    "# Q2 code goes here\n",
    "import pandas as pd\n",
    "\n",
    "#2a.\n",
    "stock_data = pd.read_html(\"https://finance.yahoo.com/quote/MSFT/history?p=MSFT\", index_col = 0)[0]\n",
    "\n",
    "#2b.\n",
    "print(stock_data.shape)\n",
    "\n",
    "#2c.\n",
    "print(stock_data.columns)\n",
    "\n",
    "#2d.\n",
    "print(stock_data.dtypes)\n",
    "\n",
    "#2e.\n",
    "# The problem with the data type in terms of the Volume variable is that all the elements in the Volume column are not of numeric (integer or float) data type."
   ]
  },
  {
   "cell_type": "markdown",
   "metadata": {},
   "source": [
    "## Q3 \n",
    "### 6pts.\n",
    "\n",
    "a. Using the .iloc method print out the last row of the data frame.\n",
    "\n",
    "b. Comment on the values in it with respect to what they should look like.\n",
    "\n",
    "c. Remove the last row from the stock_data data frame using the DataFrame \".drop\" method with the 'inplace' argument set to True. \n",
    "\n",
    "d. Print the last row of the updated data frame to confirm that the erroneous row has been dropped."
   ]
  },
  {
   "cell_type": "code",
   "execution_count": 4,
   "metadata": {
    "scrolled": true
   },
   "outputs": [
    {
     "name": "stdout",
     "output_type": "stream",
     "text": [
      "Open           *Close price adjusted for splits.**Adjusted cl...\n",
      "High           *Close price adjusted for splits.**Adjusted cl...\n",
      "Low            *Close price adjusted for splits.**Adjusted cl...\n",
      "Close*         *Close price adjusted for splits.**Adjusted cl...\n",
      "Adj Close**    *Close price adjusted for splits.**Adjusted cl...\n",
      "Volume         *Close price adjusted for splits.**Adjusted cl...\n",
      "Name: *Close price adjusted for splits.**Adjusted close price adjusted for both dividends and splits., dtype: object\n",
      "Open             210.53\n",
      "High             212.36\n",
      "Low              209.21\n",
      "Close*           211.49\n",
      "Adj Close**      210.43\n",
      "Volume         21336200\n",
      "Name: Aug 18, 2020, dtype: object\n"
     ]
    }
   ],
   "source": [
    "# Q3 code goes here\n",
    "\n",
    "#3a.\n",
    "print(stock_data.iloc[-1])\n",
    "\n",
    "#3b.\n",
    "# The values in the last row of the data frame should be numeric.\n",
    "\n",
    "#3c.\n",
    "stock_data.drop(stock_data.index[-1], inplace = True)\n",
    "\n",
    "#3d.\n",
    "print(stock_data.iloc[-1])"
   ]
  },
  {
   "cell_type": "markdown",
   "metadata": {
    "hideCode": true
   },
   "source": [
    "## Q4\n",
    "### 6pts.\n",
    "\n",
    "* It turns out that there another row in the data frame that is also causing trouble. It has a character string in it and the row is about half way down the data frame. Because of this, the Volume column is treated as a string type. \n",
    "* You need to turn this column into a **numeric** column.\n",
    "* pandas has a function to do this and it is called 'to_numeric', and with the 'error' argument set to 'coerce', it will turn any strings into NaN.  \n",
    "\n",
    "a. Write a for loop that prints out every single entry of the Volume column (this will help you see the underlying problem).\n",
    "\n",
    "b. Use the 'pd.to_numeric' to turn the stock_data Volume column to a numeric type.\n",
    "\n",
    "c. Print the data types in the data frame to confirm that this has worked."
   ]
  },
  {
   "cell_type": "code",
   "execution_count": 5,
   "metadata": {},
   "outputs": [
    {
     "name": "stdout",
     "output_type": "stream",
     "text": [
      "35930653\n",
      "23800200\n",
      "37130100\n",
      "20926900\n",
      "20272300\n",
      "17403200\n",
      "17933500\n",
      "10550600\n",
      "18699600\n",
      "22612200\n",
      "37181900\n",
      "63354900\n",
      "32515800\n",
      "35023300\n",
      "27018100\n",
      "28798400\n",
      "30979400\n",
      "26733300\n",
      "32440600\n",
      "23284100\n",
      "24620000\n",
      "24666000\n",
      "25120900\n",
      "23724500\n",
      "30931300\n",
      "33064800\n",
      "14512200\n",
      "21012900\n",
      "33979700\n",
      "25683500\n",
      "22829100\n",
      "24792700\n",
      "28372800\n",
      "0.56 Dividend\n",
      "24154100\n",
      "24953300\n",
      "18621100\n",
      "21593900\n",
      "29440800\n",
      "44045100\n",
      "44395000\n",
      "25231900\n",
      "36080100\n",
      "42311800\n",
      "27512000\n",
      "30842200\n",
      "36953700\n",
      "31432600\n",
      "51195600\n",
      "36700300\n",
      "37111600\n",
      "18879600\n",
      "22351500\n",
      "22724900\n",
      "22753500\n",
      "27625800\n",
      "26057900\n",
      "22733100\n",
      "23451700\n",
      "28950800\n",
      "40461400\n",
      "26458000\n",
      "19925800\n",
      "25681100\n",
      "28554300\n",
      "21331600\n",
      "33154800\n",
      "27158400\n",
      "33780700\n",
      "24221900\n",
      "32004900\n",
      "29437300\n",
      "31202500\n",
      "30803800\n",
      "33517100\n",
      "39839700\n",
      "55225300\n",
      "34011300\n",
      "26328100\n",
      "21823900\n",
      "30375800\n",
      "33620100\n",
      "35461500\n",
      "45679000\n",
      "52924300\n",
      "59664100\n",
      "58400300\n",
      "34080800\n",
      "25791200\n",
      "28774200\n",
      "26292900\n",
      "57602200\n",
      "39600800\n",
      "23043700\n",
      "25460100\n",
      "36249300\n",
      "26981500\n",
      "27627600\n",
      "0.51 Dividend\n",
      "21336200\n",
      "float64\n"
     ]
    }
   ],
   "source": [
    "# Q4 code goes here\n",
    "\n",
    "#4a.\n",
    "for i in stock_data[\"Volume\"]:\n",
    "    print(i)\n",
    "\n",
    "#4b.\n",
    "stock_data[\"Volume\"] = pd.to_numeric(stock_data[\"Volume\"], errors = \"coerce\")\n",
    "\n",
    "#4c.\n",
    "print(stock_data[\"Volume\"].dtypes)"
   ]
  },
  {
   "cell_type": "markdown",
   "metadata": {},
   "source": [
    "## Q5\n",
    "### 9 pts.\n",
    "\n",
    "Using the Volume column in the cleaned data frame find and print:\n",
    "\n",
    "a. The average volume:  .mean()\n",
    "\n",
    "b. The median volume: .median()\n",
    "\n",
    "c. The standard deviation of the volume: .std()\n",
    "\n",
    "d. The 5th and 95th quantiles of volume (put the appropriate values in the list): .quantile([ , ])\n",
    "\n",
    "> For parts e and f, use the result of .idmax() and .idmin() as an index into the Date column.\n",
    "\n",
    "e. The day on which the maximum volume occurred: .idxmax()\n",
    "\n",
    "f. The day on which the minimum volume occurred: .idxmin()\n",
    "\n",
    "g. Use the .describe() function for an overall summary of the Volume column.\n",
    "\n"
   ]
  },
  {
   "cell_type": "code",
   "execution_count": 6,
   "metadata": {},
   "outputs": [
    {
     "name": "stdout",
     "output_type": "stream",
     "text": [
      "30386641.35714286\n",
      "28000200.0\n",
      "10003511.22996485\n",
      "0.05    18687825.0\n",
      "0.95    53269450.0\n",
      "Name: Volume, dtype: float64\n",
      "Dec 18, 2020\n",
      "Dec 24, 2020\n",
      "count    9.800000e+01\n",
      "mean     3.038664e+07\n",
      "std      1.000351e+07\n",
      "min      1.055060e+07\n",
      "25%      2.374342e+07\n",
      "50%      2.800020e+07\n",
      "75%      3.406342e+07\n",
      "max      6.335490e+07\n",
      "Name: Volume, dtype: float64\n"
     ]
    }
   ],
   "source": [
    "# Q5 code goes here\n",
    "\n",
    "#5a.\n",
    "print(stock_data[\"Volume\"].mean())\n",
    "\n",
    "#5b.\n",
    "print(stock_data[\"Volume\"].median())\n",
    "\n",
    "#5c.\n",
    "print(stock_data[\"Volume\"].std())\n",
    "\n",
    "#5d.\n",
    "print(stock_data[\"Volume\"].quantile([0.05, 0.95]))\n",
    "\n",
    "#5e.\n",
    "print(stock_data[\"Volume\"].idxmax())\n",
    "\n",
    "#5f.\n",
    "print(stock_data[\"Volume\"].idxmin())\n",
    "\n",
    "#5g.\n",
    "print(stock_data[\"Volume\"].describe())"
   ]
  },
  {
   "cell_type": "markdown",
   "metadata": {},
   "source": [
    "## Q6.\n",
    "###  4 pts.\n",
    "Note that the first column in the data frame contains date data but it is being viewed as type 'string'.\n",
    "\n",
    "a. Overwrite and caste this column as a date column using the pd.to_datetime() function, as in the Class 4 notes, slide 7.7.\n",
    "\n",
    "b. Print the type of the first element in the new Date column to confirm it is now a valid date type. "
   ]
  },
  {
   "cell_type": "code",
   "execution_count": 7,
   "metadata": {},
   "outputs": [
    {
     "name": "stdout",
     "output_type": "stream",
     "text": [
      "<class 'pandas._libs.tslibs.timestamps.Timestamp'>\n"
     ]
    }
   ],
   "source": [
    "# Q6 code goes here\n",
    "\n",
    "#6a.\n",
    "stock_data[\"Date\"] = pd.to_datetime(stock_data.index, format = \"%b %d, %Y\")\n",
    "\n",
    "#6b. \n",
    "print(type(stock_data[\"Date\"][0]))"
   ]
  },
  {
   "cell_type": "markdown",
   "metadata": {},
   "source": [
    "## Q7.\n",
    "### 5 pts.\n",
    "\n",
    "a. Create a new variable in the data frame called 'DayOfWeek' by using the .dt.day_name function.\n",
    "\n",
    "b. Create a new variable in the data frame called 'MonthOfYear' by using the .dt.month_name function.\n",
    "\n",
    "c. Print out all the columns in the stock_data data frame to confirm that the new columns are there. "
   ]
  },
  {
   "cell_type": "code",
   "execution_count": 13,
   "metadata": {
    "scrolled": true
   },
   "outputs": [
    {
     "name": "stdout",
     "output_type": "stream",
     "text": [
      "                       Open           High            Low         Close*  \\\n",
      "Date                                                                       \n",
      "Jan 06, 2021         212.17         216.49         211.94         212.25   \n",
      "Jan 05, 2021         217.26         218.52         215.70         217.90   \n",
      "Jan 04, 2021         222.53         223.00         214.81         217.69   \n",
      "Dec 31, 2020         221.70         223.00         219.68         222.42   \n",
      "Dec 30, 2020         225.23         225.63         221.47         221.68   \n",
      "...                     ...            ...            ...            ...   \n",
      "Aug 21, 2020         213.86         216.25         212.85         213.02   \n",
      "Aug 20, 2020         209.54         215.00         208.91         214.58   \n",
      "Aug 19, 2020         211.49         212.10         209.25         209.70   \n",
      "Aug 19, 2020  0.51 Dividend  0.51 Dividend  0.51 Dividend  0.51 Dividend   \n",
      "Aug 18, 2020         210.53         212.36         209.21         211.49   \n",
      "\n",
      "                Adj Close**      Volume       Date  DayOfWeek MonthOfYear  \n",
      "Date                                                                       \n",
      "Jan 06, 2021         212.25  35930653.0 2021-01-06  Wednesday     January  \n",
      "Jan 05, 2021         217.90  23800200.0 2021-01-05    Tuesday     January  \n",
      "Jan 04, 2021         217.69  37130100.0 2021-01-04     Monday     January  \n",
      "Dec 31, 2020         222.42  20926900.0 2020-12-31   Thursday    December  \n",
      "Dec 30, 2020         221.68  20272300.0 2020-12-30  Wednesday    December  \n",
      "...                     ...         ...        ...        ...         ...  \n",
      "Aug 21, 2020         212.46  36249300.0 2020-08-21     Friday      August  \n",
      "Aug 20, 2020         214.02  26981500.0 2020-08-20   Thursday      August  \n",
      "Aug 19, 2020         209.15  27627600.0 2020-08-19  Wednesday      August  \n",
      "Aug 19, 2020  0.51 Dividend         NaN 2020-08-19  Wednesday      August  \n",
      "Aug 18, 2020         210.43  21336200.0 2020-08-18    Tuesday      August  \n",
      "\n",
      "[100 rows x 9 columns]\n"
     ]
    }
   ],
   "source": [
    "# Q7 code goes here\n",
    "\n",
    "#7a. Create day of week.\n",
    "stock_data[\"DayOfWeek\"] = stock_data[\"Date\"].dt.day_name()\n",
    "\n",
    "#7b. Create month of year.\n",
    "stock_data[\"MonthOfYear\"] = stock_data[\"Date\"].dt.month_name()\n",
    "\n",
    "#7c.\n",
    "print(stock_data)"
   ]
  },
  {
   "cell_type": "markdown",
   "metadata": {},
   "source": [
    "## Q8.\n",
    "### 4 pts.\n",
    "\n",
    "a. Print out the number of observations for each day of the week. Use the .value_counts() method.\n",
    "\n",
    "a. Print out the number of observations for each month of the year. Use the .value_counts() method."
   ]
  },
  {
   "cell_type": "code",
   "execution_count": 47,
   "metadata": {},
   "outputs": [
    {
     "name": "stdout",
     "output_type": "stream",
     "text": [
      "Wednesday    21\n",
      "Tuesday      20\n",
      "Monday       20\n",
      "Thursday     20\n",
      "Friday       19\n",
      "Name: DayOfWeek, dtype: int64\n",
      "March       22\n",
      "June        22\n",
      "April       21\n",
      "May         21\n",
      "July        13\n",
      "February     1\n",
      "Name: MonthOfYear, dtype: int64\n"
     ]
    }
   ],
   "source": [
    "# Q8 code goes here\n",
    "\n",
    "#Q8a.\n",
    "print(stock_data[\"DayOfWeek\"].value_counts())\n",
    "\n",
    "#Q8b. \n",
    "print(stock_data[\"MonthOfYear\"].value_counts())"
   ]
  },
  {
   "cell_type": "markdown",
   "metadata": {},
   "source": [
    "## Q9\n",
    "### 5pts.\n",
    "\n",
    "a. Using the .groupby method, find and print the average volume for each *day of the week*.\n",
    "\n",
    "b. Using the .groupby method, find and print the median volume for each *month of the year*."
   ]
  },
  {
   "cell_type": "code",
   "execution_count": 48,
   "metadata": {
    "scrolled": false
   },
   "outputs": [
    {
     "data": {
      "text/plain": [
       "MonthOfYear\n",
       "April       49630700.0\n",
       "February    97073600.0\n",
       "July        32179400.0\n",
       "June        32794550.0\n",
       "March       74229650.0\n",
       "May         32974750.0\n",
       "Name: Volume, dtype: float64"
      ]
     },
     "execution_count": 48,
     "metadata": {},
     "output_type": "execute_result"
    }
   ],
   "source": [
    "# Q9 code goes here\n",
    "\n",
    "#9a.\n",
    "stock_data.groupby(\"DayOfWeek\").Volume.mean()\n",
    "\n",
    "#9b.\n",
    "stock_data.groupby(\"MonthOfYear\").Volume.median()"
   ]
  }
 ],
 "metadata": {
  "kernelspec": {
   "display_name": "Python 3",
   "language": "python",
   "name": "python3"
  },
  "language_info": {
   "codemirror_mode": {
    "name": "ipython",
    "version": 3
   },
   "file_extension": ".py",
   "mimetype": "text/x-python",
   "name": "python",
   "nbconvert_exporter": "python",
   "pygments_lexer": "ipython3",
   "version": "3.8.3"
  }
 },
 "nbformat": 4,
 "nbformat_minor": 4
}
