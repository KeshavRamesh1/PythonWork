{
 "cells": [
  {
   "cell_type": "markdown",
   "metadata": {},
   "source": [
    "# HW 2"
   ]
  },
  {
   "cell_type": "markdown",
   "metadata": {},
   "source": [
    "## Introduction\n",
    "\n",
    "* In this homework you will download an html file from Yahoo Finance that contains a table of stock prices, trade volumes etc.\n",
    "* You can look at an example web page by following this link <https://finance.yahoo.com/quote/MSFT/history?p=MSFT>\n",
    "* Once you have the data you will clean the file so that it is suitable for analysis.\n",
    "* Finally you will create some statistical summaries of the data.\n",
    "* In a subsequent homework we will use a similar data set for some plotting activities."
   ]
  },
  {
   "cell_type": "markdown",
   "metadata": {},
   "source": [
    "## Q1. \n",
    "### 5 pts.\n",
    "\n",
    "a. Choose a stock ticker symbol. You can use 'MSFT' if you want, but you don't have to. Store the symbol in a variable called \"stock\".\n",
    "\n",
    "b. Create a new string variable called \"url\" that is the url of the Yahoo stock web page. It needs to look just like the link above with the ticker symbol embedded (in two places). You shouldn't hard code the stock symbol into the url, but rather use the .format() method on the string together with the {} notation to create the url. An example of this syntax is on the slide \"breaking out of a for loop\", slide 5.9, Class 2.\n",
    "\n",
    "c. Print the url variable and make sure it resembles the link above (just with your chosen ticker symbol)."
   ]
  },
  {
   "cell_type": "code",
   "execution_count": 40,
   "metadata": {},
   "outputs": [
    {
     "name": "stdout",
     "output_type": "stream",
     "text": [
      "https://finance.yahoo.com/quote/MSFT/history?p=MSFT\n"
     ]
    }
   ],
   "source": [
    "# Q1 code goes here.\n",
    "\n",
    "#1a.\n",
    "stock = \"MSFT\"\n",
    "\n",
    "#1b.\n",
    "url = \"https://finance.yahoo.com/quote/{stock}/history?p={stock}\".format(stock = \"MSFT\")\n",
    "\n",
    "#1c.\n",
    "print(url)"
   ]
  },
  {
   "cell_type": "markdown",
   "metadata": {},
   "source": [
    "## Q2. Read in the html file and list the column names\n",
    "### 6pts.\n",
    "\n",
    "a. Use the pd.read_html() command to obtain the data. Recall that the command returns a list of data frames, so pick off the first element. Call the data frame \"stock_data\".\n",
    "\n",
    "b. Obtain and print the dimensions of data frame.\n",
    "\n",
    "c. Obtain and print the names of all the columns.\n",
    "\n",
    "d. Obtain and print the data types.\n",
    "\n",
    "e. What is the problem with the data type in terms of the Volume variable? "
   ]
  },
  {
   "cell_type": "code",
   "execution_count": 41,
   "metadata": {
    "scrolled": true
   },
   "outputs": [
    {
     "name": "stdout",
     "output_type": "stream",
     "text": [
      "(101, 6)\n",
      "Index(['Open', 'High', 'Low', 'Close*', 'Adj Close**', 'Volume'], dtype='object')\n",
      "Open           object\n",
      "High           object\n",
      "Low            object\n",
      "Close*         object\n",
      "Adj Close**    object\n",
      "Volume         object\n",
      "dtype: object\n"
     ]
    }
   ],
   "source": [
    "# Q2 code goes here\n",
    "import pandas as pd\n",
    "\n",
    "#2a.\n",
    "stock_data = pd.read_html(\"https://finance.yahoo.com/quote/MSFT/history?p=MSFT\", index_col = 0)[0]\n",
    "\n",
    "#2b.\n",
    "print(stock_data.shape)\n",
    "\n",
    "#2c.\n",
    "print(stock_data.columns)\n",
    "\n",
    "#2d.\n",
    "print(stock_data.dtypes)\n",
    "\n",
    "#2e.\n",
    "# The problem with the data type in terms of the Volume variable is that all the elements in the Volume column are not of numeric (integer or float) data type."
   ]
  },
  {
   "cell_type": "markdown",
   "metadata": {},
   "source": [
    "## Q3 \n",
    "### 6pts.\n",
    "\n",
    "a. Using the .iloc method print out the last row of the data frame.\n",
    "\n",
    "b. Comment on the values in it with respect to what they should look like.\n",
    "\n",
    "c. Remove the last row from the stock_data data frame using the DataFrame \".drop\" method with the 'inplace' argument set to True. \n",
    "\n",
    "d. Print the last row of the updated data frame to confirm that the erroneous row has been dropped."
   ]
  },
  {
   "cell_type": "code",
   "execution_count": 42,
   "metadata": {
    "scrolled": true
   },
   "outputs": [
    {
     "name": "stdout",
     "output_type": "stream",
     "text": [
      "Open           *Close price adjusted for splits.**Adjusted cl...\n",
      "High           *Close price adjusted for splits.**Adjusted cl...\n",
      "Low            *Close price adjusted for splits.**Adjusted cl...\n",
      "Close*         *Close price adjusted for splits.**Adjusted cl...\n",
      "Adj Close**    *Close price adjusted for splits.**Adjusted cl...\n",
      "Volume         *Close price adjusted for splits.**Adjusted cl...\n",
      "Name: *Close price adjusted for splits.**Adjusted close price adjusted for both dividends and splits., dtype: object\n",
      "Open             152.41\n",
      "High             163.71\n",
      "Low              152.00\n",
      "Close*           162.01\n",
      "Adj Close**      161.56\n",
      "Volume         97073600\n",
      "Name: Feb 28, 2020, dtype: object\n"
     ]
    }
   ],
   "source": [
    "# Q3 code goes here\n",
    "\n",
    "#3a.\n",
    "print(stock_data.iloc[-1])\n",
    "\n",
    "#3b.\n",
    "# The values in the last row of the data frame should be numeric.\n",
    "\n",
    "#3c.\n",
    "stock_data.drop(stock_data.index[-1], inplace = True)\n",
    "\n",
    "#3d.\n",
    "print(stock_data.iloc[-1])"
   ]
  },
  {
   "cell_type": "markdown",
   "metadata": {
    "hideCode": true
   },
   "source": [
    "## Q4\n",
    "### 6pts.\n",
    "\n",
    "* It turns out that there another row in the data frame that is also causing trouble. It has a character string in it and the row is about half way down the data frame. Because of this, the Volume column is treated as a string type. \n",
    "* You need to turn this column into a **numeric** column.\n",
    "* pandas has a function to do this and it is called 'to_numeric', and with the 'error' argument set to 'coerce', it will turn any strings into NaN.  \n",
    "\n",
    "a. Write a for loop that prints out every single entry of the Volume column (this will help you see the underlying problem).\n",
    "\n",
    "b. Use the 'pd.to_numeric' to turn the stock_data Volume column to a numeric type.\n",
    "\n",
    "c. Print the data types in the data frame to confirm that this has worked."
   ]
  },
  {
   "cell_type": "code",
   "execution_count": 43,
   "metadata": {},
   "outputs": [
    {
     "name": "stdout",
     "output_type": "stream",
     "text": [
      "36801800\n",
      "31635300\n",
      "29940700\n",
      "32179400\n",
      "37591800\n",
      "38135600\n",
      "26177600\n",
      "33121700\n",
      "33600000\n",
      "33600700\n",
      "31897600\n",
      "29315800\n",
      "32061200\n",
      "34310300\n",
      "26701600\n",
      "54675800\n",
      "27803900\n",
      "36740600\n",
      "30917400\n",
      "32818900\n",
      "44441100\n",
      "23061600\n",
      "25655900\n",
      "42556700\n",
      "32770200\n",
      "43345700\n",
      "52854700\n",
      "43872300\n",
      "29783900\n",
      "33211600\n",
      "39893600\n",
      "28761800\n",
      "27311000\n",
      "30794600\n",
      "22622400\n",
      "42146700\n",
      "33810200\n",
      "39517100\n",
      "36073600\n",
      "20826900\n",
      "29119500\n",
      "31261300\n",
      "0.51 Dividend\n",
      "26799100\n",
      "35306600\n",
      "46610400\n",
      "41873900\n",
      "44711500\n",
      "32038200\n",
      "30809400\n",
      "30912600\n",
      "28316000\n",
      "32139300\n",
      "36839200\n",
      "30372900\n",
      "39370500\n",
      "53661300\n",
      "51286600\n",
      "34392700\n",
      "33194400\n",
      "34305300\n",
      "32790800\n",
      "34651600\n",
      "56203700\n",
      "36669600\n",
      "52765600\n",
      "50479600\n",
      "40940800\n",
      "52874300\n",
      "41905300\n",
      "51431800\n",
      "48318200\n",
      "62769000\n",
      "67111700\n",
      "41243300\n",
      "49630700\n",
      "57969900\n",
      "77927200\n",
      "63420300\n",
      "57042300\n",
      "64568100\n",
      "75638200\n",
      "82516700\n",
      "78975200\n",
      "84866200\n",
      "85922700\n",
      "81593200\n",
      "81059800\n",
      "87905900\n",
      "92727400\n",
      "93226400\n",
      "56371600\n",
      "65354400\n",
      "70419300\n",
      "72821100\n",
      "47817300\n",
      "49814400\n",
      "71677000\n",
      "71030800\n",
      "97073600\n",
      "float64\n"
     ]
    }
   ],
   "source": [
    "# Q4 code goes here\n",
    "\n",
    "#4a.\n",
    "for i in stock_data[\"Volume\"]:\n",
    "    print(i)\n",
    "\n",
    "#4b.\n",
    "stock_data[\"Volume\"] = pd.to_numeric(stock_data[\"Volume\"], errors = \"coerce\")\n",
    "\n",
    "#4c.\n",
    "print(stock_data[\"Volume\"].dtypes)"
   ]
  },
  {
   "cell_type": "markdown",
   "metadata": {},
   "source": [
    "## Q5\n",
    "### 9 pts.\n",
    "\n",
    "Using the Volume column in the cleaned data frame find and print:\n",
    "\n",
    "a. The average volume:  .mean()\n",
    "\n",
    "b. The median volume: .median()\n",
    "\n",
    "c. The standard deviation of the volume: .std()\n",
    "\n",
    "d. The 5th and 95th quantiles of volume (put the appropriate values in the list): .quantile([ , ])\n",
    "\n",
    "> For parts e and f, use the result of .idmax() and .idmin() as an index into the Date column.\n",
    "\n",
    "e. The day on which the maximum volume occurred: .idxmax()\n",
    "\n",
    "f. The day on which the minimum volume occurred: .idxmin()\n",
    "\n",
    "g. Use the .describe() function for an overall summary of the Volume column.\n",
    "\n"
   ]
  },
  {
   "cell_type": "code",
   "execution_count": 44,
   "metadata": {},
   "outputs": [
    {
     "name": "stdout",
     "output_type": "stream",
     "text": [
      "46203888.88888889\n",
      "39517100.0\n",
      "18908651.627851382\n",
      "0.05    26649200.0\n",
      "0.95    84971850.0\n",
      "Name: Volume, dtype: float64\n",
      "Feb 28, 2020\n",
      "May 22, 2020\n",
      "count    9.900000e+01\n",
      "mean     4.620389e+07\n",
      "std      1.890865e+07\n",
      "min      2.082690e+07\n",
      "25%      3.210025e+07\n",
      "50%      3.951710e+07\n",
      "75%      5.543975e+07\n",
      "max      9.707360e+07\n",
      "Name: Volume, dtype: float64\n"
     ]
    }
   ],
   "source": [
    "# Q5 code goes here\n",
    "\n",
    "#5a.\n",
    "print(stock_data[\"Volume\"].mean())\n",
    "\n",
    "#5b.\n",
    "print(stock_data[\"Volume\"].median())\n",
    "\n",
    "#5c.\n",
    "print(stock_data[\"Volume\"].std())\n",
    "\n",
    "#5d.\n",
    "print(stock_data[\"Volume\"].quantile([0.05, 0.95]))\n",
    "\n",
    "#5e.\n",
    "print(stock_data[\"Volume\"].idxmax())\n",
    "\n",
    "#5f.\n",
    "print(stock_data[\"Volume\"].idxmin())\n",
    "\n",
    "#5g.\n",
    "print(stock_data[\"Volume\"].describe())"
   ]
  },
  {
   "cell_type": "markdown",
   "metadata": {},
   "source": [
    "## Q6.\n",
    "###  4 pts.\n",
    "Note that the first column in the data frame contains date data but it is being viewed as type 'string'.\n",
    "\n",
    "a. Overwrite and caste this column as a date column using the pd.to_datetime() function, as in the Class 4 notes, slide 7.7.\n",
    "\n",
    "b. Print the type of the first element in the new Date column to confirm it is now a valid date type. "
   ]
  },
  {
   "cell_type": "code",
   "execution_count": 45,
   "metadata": {},
   "outputs": [
    {
     "name": "stdout",
     "output_type": "stream",
     "text": [
      "<class 'pandas._libs.tslibs.timestamps.Timestamp'>\n"
     ]
    }
   ],
   "source": [
    "# Q6 code goes here\n",
    "\n",
    "#6a.\n",
    "stock_data[\"Date\"] = pd.to_datetime(stock_data.index, format = \"%b %d, %Y\")\n",
    "\n",
    "#6b. \n",
    "print(type(stock_data[\"Date\"][0]))"
   ]
  },
  {
   "cell_type": "markdown",
   "metadata": {},
   "source": [
    "## Q7.\n",
    "### 5 pts.\n",
    "\n",
    "a. Create a new variable in the data frame called 'DayOfWeek' by using the .dt.day_name function.\n",
    "\n",
    "b. Create a new variable in the data frame called 'MonthOfYear' by using the .dt.month_name function.\n",
    "\n",
    "c. Print out all the columns in the stock_data data frame to confirm that the new columns are there. "
   ]
  },
  {
   "cell_type": "code",
   "execution_count": 46,
   "metadata": {
    "scrolled": true
   },
   "outputs": [
    {
     "name": "stdout",
     "output_type": "stream",
     "text": [
      "                Open    High     Low  Close* Adj Close**      Volume  \\\n",
      "Date                                                                   \n",
      "Jul 20, 2020  205.00  212.30  203.01  211.60      211.60  36801800.0   \n",
      "Jul 17, 2020  204.47  205.04  201.39  202.88      202.88  31635300.0   \n",
      "Jul 16, 2020  205.40  205.70  202.31  203.92      203.92  29940700.0   \n",
      "Jul 15, 2020  209.56  211.33  205.03  208.04      208.04  32179400.0   \n",
      "Jul 14, 2020  206.13  208.85  202.03  208.35      208.35  37591800.0   \n",
      "...              ...     ...     ...     ...         ...         ...   \n",
      "Mar 05, 2020  166.05  170.87  165.69  166.27      165.81  47817300.0   \n",
      "Mar 04, 2020  168.49  170.70  165.62  170.55      170.08  49814400.0   \n",
      "Mar 03, 2020  173.80  175.00  162.26  164.51      164.05  71677000.0   \n",
      "Mar 02, 2020  165.31  172.92  162.31  172.79      172.31  71030800.0   \n",
      "Feb 28, 2020  152.41  163.71  152.00  162.01      161.56  97073600.0   \n",
      "\n",
      "                   Date  DayOfWeek MonthOfYear  \n",
      "Date                                            \n",
      "Jul 20, 2020 2020-07-20     Monday        July  \n",
      "Jul 17, 2020 2020-07-17     Friday        July  \n",
      "Jul 16, 2020 2020-07-16   Thursday        July  \n",
      "Jul 15, 2020 2020-07-15  Wednesday        July  \n",
      "Jul 14, 2020 2020-07-14    Tuesday        July  \n",
      "...                 ...        ...         ...  \n",
      "Mar 05, 2020 2020-03-05   Thursday       March  \n",
      "Mar 04, 2020 2020-03-04  Wednesday       March  \n",
      "Mar 03, 2020 2020-03-03    Tuesday       March  \n",
      "Mar 02, 2020 2020-03-02     Monday       March  \n",
      "Feb 28, 2020 2020-02-28     Friday    February  \n",
      "\n",
      "[100 rows x 9 columns]\n"
     ]
    }
   ],
   "source": [
    "# Q7 code goes here\n",
    "\n",
    "#7a. Create day of week.\n",
    "stock_data[\"DayOfWeek\"] = stock_data[\"Date\"].dt.day_name()\n",
    "\n",
    "#7b. Create month of year.\n",
    "stock_data[\"MonthOfYear\"] = stock_data[\"Date\"].dt.month_name()\n",
    "\n",
    "#7c.\n",
    "print(stock_data)"
   ]
  },
  {
   "cell_type": "markdown",
   "metadata": {},
   "source": [
    "## Q8.\n",
    "### 4 pts.\n",
    "\n",
    "a. Print out the number of observations for each day of the week. Use the .value_counts() method.\n",
    "\n",
    "a. Print out the number of observations for each month of the year. Use the .value_counts() method."
   ]
  },
  {
   "cell_type": "code",
   "execution_count": 47,
   "metadata": {},
   "outputs": [
    {
     "name": "stdout",
     "output_type": "stream",
     "text": [
      "Wednesday    21\n",
      "Tuesday      20\n",
      "Monday       20\n",
      "Thursday     20\n",
      "Friday       19\n",
      "Name: DayOfWeek, dtype: int64\n",
      "March       22\n",
      "June        22\n",
      "April       21\n",
      "May         21\n",
      "July        13\n",
      "February     1\n",
      "Name: MonthOfYear, dtype: int64\n"
     ]
    }
   ],
   "source": [
    "# Q8 code goes here\n",
    "\n",
    "#Q8a.\n",
    "print(stock_data[\"DayOfWeek\"].value_counts())\n",
    "\n",
    "#Q8b. \n",
    "print(stock_data[\"MonthOfYear\"].value_counts())"
   ]
  },
  {
   "cell_type": "markdown",
   "metadata": {},
   "source": [
    "## Q9\n",
    "### 5pts.\n",
    "\n",
    "a. Using the .groupby method, find and print the average volume for each *day of the week*.\n",
    "\n",
    "b. Using the .groupby method, find and print the median volume for each *month of the year*."
   ]
  },
  {
   "cell_type": "code",
   "execution_count": 48,
   "metadata": {
    "scrolled": false
   },
   "outputs": [
    {
     "data": {
      "text/plain": [
       "MonthOfYear\n",
       "April       49630700.0\n",
       "February    97073600.0\n",
       "July        32179400.0\n",
       "June        32794550.0\n",
       "March       74229650.0\n",
       "May         32974750.0\n",
       "Name: Volume, dtype: float64"
      ]
     },
     "execution_count": 48,
     "metadata": {},
     "output_type": "execute_result"
    }
   ],
   "source": [
    "# Q9 code goes here\n",
    "\n",
    "#9a.\n",
    "stock_data.groupby(\"DayOfWeek\").Volume.mean()\n",
    "\n",
    "#9b.\n",
    "stock_data.groupby(\"MonthOfYear\").Volume.median()"
   ]
  }
 ],
 "metadata": {
  "kernelspec": {
   "display_name": "Python 3",
   "language": "python",
   "name": "python3"
  },
  "language_info": {
   "codemirror_mode": {
    "name": "ipython",
    "version": 3
   },
   "file_extension": ".py",
   "mimetype": "text/x-python",
   "name": "python",
   "nbconvert_exporter": "python",
   "pygments_lexer": "ipython3",
   "version": "3.7.6"
  }
 },
 "nbformat": 4,
 "nbformat_minor": 4
}
