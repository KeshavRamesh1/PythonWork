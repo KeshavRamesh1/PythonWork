{
 "cells": [
  {
   "cell_type": "markdown",
   "metadata": {},
   "source": [
    "# Keshav Ramesh"
   ]
  },
  {
   "cell_type": "markdown",
   "metadata": {},
   "source": [
    "## Q1 \n",
    "### 4 points.\n",
    "My birthday is September 2nd, 1994 (I wish).\n",
    "Using the convention MMDDYYYY, then my birthday number is 09021994.\n",
    "\n",
    "1a. In the cell below store you birthday number into a variable called \"birthday\".\n",
    "\n",
    "Now write code, using the birthday variable, to find and print the answer for all parts:\n",
    "\n",
    "1b. The fifth root of your birthday number.\n",
    "\n",
    "1c. Your birthday number, modulus 9. That's the remainder after being divided by 9.\n",
    "\n",
    "1d. The integer division of your birthday number by 9."
   ]
  },
  {
   "cell_type": "code",
   "execution_count": null,
   "metadata": {},
   "outputs": [],
   "source": [
    "# Q1 code goes here.\n",
    "\n",
    "#1a\n",
    "birthday = \"02112003\"\n",
    "\n",
    "#1b\n",
    "print(int(birthday) ** 0.2)\n",
    "\n",
    "#1c\n",
    "print(int(birthday) % 9)\n",
    "\n",
    "#1d\n",
    "print(int(birthday) // 9)"
   ]
  },
  {
   "cell_type": "markdown",
   "metadata": {},
   "source": [
    "## Q2\n",
    "### 3 points.\n",
    "\n",
    "2a. In the cell below is a list that contains some distinct words. Write code to extract the words from the list, concatenating them, and then saving them into a single variable called \"result\".\n",
    "\n",
    "2b. Print the \"result\" variable.\n",
    "\n",
    "2c. Write code that returns and prints the \"type\" of the result variable."
   ]
  },
  {
   "cell_type": "code",
   "execution_count": null,
   "metadata": {},
   "outputs": [],
   "source": [
    "# Q2 code goes here.\n",
    "words = ['My', 'favorite', 'soccer', 'team', 'is', 'Chelsea']\n",
    "\n",
    "# 2a\n",
    "result = \"\"\n",
    "for i in words:\n",
    "    result = result + str(i) + \" \"\n",
    "\n",
    "# 2b\n",
    "print(result)\n",
    "\n",
    "# 2c\n",
    "print(type(result))"
   ]
  },
  {
   "cell_type": "markdown",
   "metadata": {},
   "source": [
    "## Q3\n",
    "### 3 points.\n",
    "\n",
    "The log function is not a part of the Python core, but is accessible through the \"math\" module.\n",
    "\n",
    "3a. Write code to import the math module.\n",
    "\n",
    "3b. Write code to find the log base 2, of your birthday number and print the result.\n",
    "\n",
    "3c. Write code to find e-to-the-power of the natural log of your birthday number (use functions to  this, don't jsut write down the answer).  "
   ]
  },
  {
   "cell_type": "code",
   "execution_count": null,
   "metadata": {},
   "outputs": [],
   "source": [
    "# Q3 code goes here.\n",
    "\n",
    "# 3a\n",
    "import math\n",
    "\n",
    "# 3b\n",
    "print(math.log2(int(birthday)))\n",
    "\n",
    "# 3c\n",
    "print(math.exp(math.log(int(birthday))))"
   ]
  },
  {
   "cell_type": "markdown",
   "metadata": {},
   "source": [
    "## Q4\n",
    "### 8 points.\n",
    "\n",
    "4a. make a list of the following 7 entries and call it \"list_one\":  1, 3.14, 67, True, \"Hello\", \"Never\", 2.78\n",
    "\n",
    "4b. Write code that prints the length of the list. You need to write code to do this, not just eyeball the length of the list.\n",
    "\n",
    "4c. Write code that extracts and prints the fifth element (position 4).\n",
    "\n",
    "4d. Write code that extracts  and prints the elements in positions 2 through 4. \n",
    "\n",
    "4e. Write code that extracts  and prints every other element, starting from position 0.\n",
    "\n",
    "4f. Write code using the slice notation that reverses the order of the list. Print the reversed list.\n",
    "\n",
    "4g. Write code to append the string \"happy\" to the end of the list. Print the list.\n",
    "\n",
    "4h. Write code to insert a new element, 9876 in position 4 and print the new list."
   ]
  },
  {
   "cell_type": "code",
   "execution_count": null,
   "metadata": {},
   "outputs": [],
   "source": [
    "# Q4 code goes here.\n",
    "\n",
    "# 4a\n",
    "list_one = [1, 3.14, 67, True, \"Hello\", \"Never\", 2.78]\n",
    "\n",
    "# 4b\n",
    "print(len(list_one))\n",
    "\n",
    "# 4c\n",
    "print(list_one[4])\n",
    "\n",
    "# 4d\n",
    "print(list_one[2:5])\n",
    "\n",
    "# 4e\n",
    "print(list_one[::2])\n",
    "\n",
    "# 4f\n",
    "print(list_one[::-1])\n",
    "\n",
    "# 4g\n",
    "list_one.append(\"happy\")\n",
    "print(list_one)\n",
    "\n",
    "# 4h\n",
    "list_one.insert(4, 9876)\n",
    "print(list_one)"
   ]
  },
  {
   "cell_type": "markdown",
   "metadata": {},
   "source": [
    "## Q5\n",
    "### 8 points\n",
    "The dict container is useful for storing complicated data structures.  In the cell below you can see a dict that contains information on some airports. The values themselves are nested dicts.\n",
    "\n",
    "5a. Write code to identify and print the annual number of flights from Heathrow Airport. Use the recursive [][]... notation.\n",
    "\n",
    "5b. There is an error in the dict. Chandigarh is in India, not England. Write code to correct this mistake and print out the corrected dict.\n",
    "\n",
    "5c. Write code to add in your local airport to the dict, and print the updated dict (you can look up the stats in Wikipedia or just make them up)!\n",
    "\n",
    "5d. Write a for loop that iterates over the four (you just added one) airport keys, printing out the airport three letter key and number of flights that each airport has. \n"
   ]
  },
  {
   "cell_type": "code",
   "execution_count": null,
   "metadata": {},
   "outputs": [],
   "source": [
    "# Q5 code goes here.\n",
    "\n",
    "airports = {'LHR': {'FULLNAME': \"London Heathrow\", 'COUNTRY': \"ENGLAND\", 'ANNUALSTATS': {'NUMPASSENGERS': 78012825, 'NUMFLIGHTS': 475783}},\n",
    "            'PHL': {'FULLNAME': \"Philadelphia International\", 'COUNTRY': \"US\", 'ANNUALSTATS': {'NUMPASSENGERS': 29585754, 'NUMFLIGHTS':369928}}, \n",
    "            'IXC': {'FULLNAME': \"Chandigarh International\", 'COUNTRY': \"ENGLAND\", 'ANNUALSTATS': {'NUMPASSENGERS': 2137739, 'NUMFLIGHTS':18715}}\n",
    "                        }\n"
   ]
  },
  {
   "cell_type": "markdown",
   "metadata": {},
   "source": [
    "## Q6\n",
    "###  6 points\n",
    "\n",
    "6a. Create an empty list called list_two.\n",
    "\n",
    "6b. Using a \"for\" loop, append the squares of the numbers 0 through 99 to the list.\n",
    "\n",
    "6c. Sum the numbers in list_two and print the result. You can simply use the built in \"sum\" function to achieve this.\n",
    "\n",
    "6d. Use a \"list comprehension\" to create a new list, list_three, that only contains those squares that are divisible by 9. Print this list."
   ]
  },
  {
   "cell_type": "code",
   "execution_count": null,
   "metadata": {},
   "outputs": [],
   "source": [
    "# Q6 code goes here"
   ]
  },
  {
   "cell_type": "markdown",
   "metadata": {},
   "source": [
    "## Q7\n",
    "### 8 points\n",
    "\n",
    "Below is code to import the numpy library from which we will use a function to help generate a list of normally distributed random numbers. There are 10000 numbers in the list which is called rvs.\n",
    "\n",
    "a. Use a \"for\" statement with an embedded if statement to find the sum of those numbers in the list, that are strictly positive. (As an aside, this is called a \"truncation\" of the probability distribution.)\n",
    "\n",
    "b. Divide the sum from part a, by the number of positives, to find their average. Print the answer.  (Aside: if you have this correct then your answer should be very close to $\\sqrt{\\frac{2}{\\pi}}$.) "
   ]
  },
  {
   "cell_type": "code",
   "execution_count": null,
   "metadata": {},
   "outputs": [],
   "source": [
    "import numpy as np\n",
    "np.random.seed(seed=1234) # Set the seed of the random number generator for reproducibility.\n",
    "rvs = list(np.random.normal(size = 10000))\n",
    "\n",
    "running_sum = 0 # A running sum of the positive values.\n",
    "num_pos = 0 # A counter for the number of positive values.\n",
    "\n",
    "# Q7 code goes here.\n",
    "\n"
   ]
  },
  {
   "cell_type": "markdown",
   "metadata": {},
   "source": [
    "## Q8\n",
    "### 10 points\n",
    "\n",
    "In this question you will estimate how long it takes on average to generate a normal random number that is above 2. \n",
    "You will write code for a Monte Carlo simulation, that has 1000 iterations.\n",
    "This question is very similar in strucure to the \"Ace occurs\" example in the class notes 2 slides so I suggest you review that first.\n",
    "\n",
    "Process:\n",
    "* First create an empty list that will store the results of each iteration. Call it \"results\".\n",
    "* Next create a variable that indicates the number of iterations (1000). Call it \"num_its\".\n",
    "* Write a for loop that iterates 1000 times:\n",
    "* Inside the for loop create a variable to count the number of trials until the first normal random variable is above 2. Call it \"counter\" and initialize it to the value 1.\n",
    "* Use a while statement inside the for loop that keeps going until the next random normal is above 2. \n",
    "  * Here's the statement you need 'np.random.normal(size = 1)' to generate a random normal.  \n",
    "* Inside the while loop you should increase your trials counter by 1.\n",
    "* When the while loop exits, append the trials counter to the \"results\" list.\n",
    "* Finally find the average of the numbers inside the results list.\n",
    "* If you have done this correctly you should get an answer close to 44 (probably between 41 and 47).\n",
    "\n"
   ]
  },
  {
   "cell_type": "code",
   "execution_count": null,
   "metadata": {},
   "outputs": [],
   "source": [
    "# Q8 code goes here."
   ]
  }
 ],
 "metadata": {
  "celltoolbar": "Slideshow",
  "kernelspec": {
   "display_name": "Python 3",
   "language": "python",
   "name": "python3"
  },
  "language_info": {
   "codemirror_mode": {
    "name": "ipython",
    "version": 3
   },
   "file_extension": ".py",
   "mimetype": "text/x-python",
   "name": "python",
   "nbconvert_exporter": "python",
   "pygments_lexer": "ipython3",
   "version": "3.7.6"
  }
 },
 "nbformat": 4,
 "nbformat_minor": 4
}
